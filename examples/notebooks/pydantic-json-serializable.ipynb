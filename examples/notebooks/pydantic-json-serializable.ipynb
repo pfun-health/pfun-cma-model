{
 "cells": [
  {
   "cell_type": "code",
   "execution_count": 5,
   "id": "076aa0d8",
   "metadata": {},
   "outputs": [],
   "source": [
    "from typing import Any\n",
    "import numbers\n",
    "from pydantic import BaseModel, create_model, field_serializer\n",
    "\n",
    "\n",
    "class Param(numbers.Real, BaseModel):\n",
    "    value: float\n",
    "\n",
    "    def __float__(self): return float(self.value)\n",
    "    def __int__(self): return int(self.value)\n",
    "    def __trunc__(self): return int(self.value)\n",
    "    def __abs__(self): return abs(self.value)\n",
    "    def __add__(self, other): return float(self.value) + other\n",
    "    def __sub__(self, other): return float(self.value) - other\n",
    "    def __mul__(self, other): return float(self.value) * other\n",
    "    def __truediv__(self, other): return float(self.value) / other\n",
    "    def __eq__(self, other): return float(self.value) == other\n",
    "    def __lt__(self, other): return float(self.value) < other\n",
    "    def __le__(self, other): return float(self.value) <= other\n",
    "\n",
    "    # Add missing abstract methods\n",
    "    def __ceil__(self): return float(self.value).__ceil__()\n",
    "    def __floor__(self): return float(self.value).__floor__()\n",
    "    def __floordiv__(self, other): return float(self.value) // other\n",
    "    def __mod__(self, other): return float(self.value) % other\n",
    "    def __neg__(self): return -float(self.value)\n",
    "    def __pos__(self): return +float(self.value)\n",
    "    def __pow__(self, other, modulo=None): return pow(float(self.value), other, modulo) if modulo else pow(float(self.value), other)\n",
    "    def __radd__(self, other): return other + float(self.value)\n",
    "    def __rfloordiv__(self, other): return other // float(self.value)\n",
    "    def __rmod__(self, other): return other % float(self.value)\n",
    "    def __rmul__(self, other): return other * float(self.value)\n",
    "    def __round__(self, ndigits=None): return round(float(self.value), ndigits) if ndigits is not None else round(float(self.value))\n",
    "    def __rpow__(self, other, modulo=None): return pow(other, float(self.value), modulo) if modulo else pow(other, float(self.value))\n",
    "    def __rtruediv__(self, other): return other / float(self.value)\n",
    "\n",
    "    @field_serializer('value', when_used='json')\n",
    "    def serialize_value(self, v: float, _info):\n",
    "        return v\n"
   ]
  },
  {
   "cell_type": "code",
   "execution_count": 6,
   "id": "064d9d3b",
   "metadata": {},
   "outputs": [
    {
     "name": "stdout",
     "output_type": "stream",
     "text": [
      "{\"param\":{\"value\":2.71}}\n"
     ]
    }
   ],
   "source": [
    "# Dynamically define ParamContainer with a \"param\" field of type Param\n",
    "ParamContainer = create_model(\n",
    "    'ParamContainer',\n",
    "    param=(Param, ...)\n",
    ")\n",
    "\n",
    "# Attach serializer dynamically (works because the method is on Param)\n",
    "# If you want to attach serializer on ParamContainer itself for 'param':\n",
    "\n",
    "\n",
    "def serialize_param(self, value, info):\n",
    "    return float(value)\n",
    "\n",
    "\n",
    "ParamContainer.serialize_param = field_serializer(\n",
    "    'param', when_used='json')(serialize_param)\n",
    "\n",
    "# Usage\n",
    "c = ParamContainer(param=Param(value=2.71))\n",
    "print(c.model_dump_json())  # Output: {\"param\":2.71}"
   ]
  }
 ],
 "metadata": {
  "kernelspec": {
   "display_name": "pfun-cma-model",
   "language": "python",
   "name": "python3"
  },
  "language_info": {
   "codemirror_mode": {
    "name": "ipython",
    "version": 3
   },
   "file_extension": ".py",
   "mimetype": "text/x-python",
   "name": "python",
   "nbconvert_exporter": "python",
   "pygments_lexer": "ipython3",
   "version": "3.12.11"
  }
 },
 "nbformat": 4,
 "nbformat_minor": 5
}
