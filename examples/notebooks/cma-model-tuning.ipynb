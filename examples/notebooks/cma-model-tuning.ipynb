{
 "cells": [
  {
   "cell_type": "code",
   "execution_count": 1,
   "metadata": {},
   "outputs": [
    {
     "name": "stdout",
     "output_type": "stream",
     "text": [
      "Collecting dash\n",
      "  Downloading dash-3.2.0-py3-none-any.whl.metadata (10 kB)\n",
      "Collecting dash-core-components\n",
      "  Downloading dash_core_components-2.0.0-py3-none-any.whl.metadata (2.9 kB)\n",
      "Collecting dash-html-components\n",
      "  Downloading dash_html_components-2.0.0-py3-none-any.whl.metadata (3.8 kB)\n",
      "Requirement already satisfied: Flask<3.2,>=1.0.4 in d:\\robbiedocuments\\data\\.venv\\lib\\site-packages (from dash) (3.1.2)\n",
      "Requirement already satisfied: Werkzeug<3.2 in d:\\robbiedocuments\\data\\.venv\\lib\\site-packages (from dash) (3.1.3)\n",
      "Requirement already satisfied: plotly>=5.0.0 in d:\\robbiedocuments\\data\\.venv\\lib\\site-packages (from dash) (6.3.0)\n",
      "Collecting importlib-metadata (from dash)\n",
      "  Downloading importlib_metadata-8.7.0-py3-none-any.whl.metadata (4.8 kB)\n",
      "Requirement already satisfied: typing-extensions>=4.1.1 in d:\\robbiedocuments\\data\\.venv\\lib\\site-packages (from dash) (4.15.0)\n",
      "Requirement already satisfied: requests in d:\\robbiedocuments\\data\\.venv\\lib\\site-packages (from dash) (2.32.5)\n",
      "Collecting retrying (from dash)\n",
      "  Downloading retrying-1.4.2-py3-none-any.whl.metadata (5.5 kB)\n",
      "Requirement already satisfied: nest-asyncio in d:\\robbiedocuments\\data\\.venv\\lib\\site-packages (from dash) (1.6.0)\n",
      "Requirement already satisfied: setuptools in d:\\robbiedocuments\\data\\.venv\\lib\\site-packages (from dash) (80.9.0)\n",
      "Requirement already satisfied: blinker>=1.9.0 in d:\\robbiedocuments\\data\\.venv\\lib\\site-packages (from Flask<3.2,>=1.0.4->dash) (1.9.0)\n",
      "Requirement already satisfied: click>=8.1.3 in d:\\robbiedocuments\\data\\.venv\\lib\\site-packages (from Flask<3.2,>=1.0.4->dash) (8.2.1)\n",
      "Requirement already satisfied: itsdangerous>=2.2.0 in d:\\robbiedocuments\\data\\.venv\\lib\\site-packages (from Flask<3.2,>=1.0.4->dash) (2.2.0)\n",
      "Requirement already satisfied: jinja2>=3.1.2 in d:\\robbiedocuments\\data\\.venv\\lib\\site-packages (from Flask<3.2,>=1.0.4->dash) (3.1.6)\n",
      "Requirement already satisfied: markupsafe>=2.1.1 in d:\\robbiedocuments\\data\\.venv\\lib\\site-packages (from Flask<3.2,>=1.0.4->dash) (3.0.2)\n",
      "Requirement already satisfied: colorama in d:\\robbiedocuments\\data\\.venv\\lib\\site-packages (from click>=8.1.3->Flask<3.2,>=1.0.4->dash) (0.4.6)\n",
      "Requirement already satisfied: narwhals>=1.15.1 in d:\\robbiedocuments\\data\\.venv\\lib\\site-packages (from plotly>=5.0.0->dash) (2.5.0)\n",
      "Requirement already satisfied: packaging in d:\\robbiedocuments\\data\\.venv\\lib\\site-packages (from plotly>=5.0.0->dash) (25.0)\n",
      "Collecting zipp>=3.20 (from importlib-metadata->dash)\n",
      "  Downloading zipp-3.23.0-py3-none-any.whl.metadata (3.6 kB)\n",
      "Requirement already satisfied: charset_normalizer<4,>=2 in d:\\robbiedocuments\\data\\.venv\\lib\\site-packages (from requests->dash) (3.4.3)\n",
      "Requirement already satisfied: idna<4,>=2.5 in d:\\robbiedocuments\\data\\.venv\\lib\\site-packages (from requests->dash) (3.10)\n",
      "Requirement already satisfied: urllib3<3,>=1.21.1 in d:\\robbiedocuments\\data\\.venv\\lib\\site-packages (from requests->dash) (2.5.0)\n",
      "Requirement already satisfied: certifi>=2017.4.17 in d:\\robbiedocuments\\data\\.venv\\lib\\site-packages (from requests->dash) (2025.8.3)\n",
      "Downloading dash-3.2.0-py3-none-any.whl (7.9 MB)\n",
      "   ---------------------------------------- 0.0/7.9 MB ? eta -:--:--\n",
      "   ---------------------------------------- 7.9/7.9 MB 81.3 MB/s  0:00:00\n",
      "Downloading dash_core_components-2.0.0-py3-none-any.whl (3.8 kB)\n",
      "Downloading dash_html_components-2.0.0-py3-none-any.whl (4.1 kB)\n",
      "Downloading importlib_metadata-8.7.0-py3-none-any.whl (27 kB)\n",
      "Downloading zipp-3.23.0-py3-none-any.whl (10 kB)\n",
      "Downloading retrying-1.4.2-py3-none-any.whl (10 kB)\n",
      "Installing collected packages: dash-html-components, dash-core-components, zipp, retrying, importlib-metadata, dash\n",
      "\n",
      "   -------------------------- ------------- 4/6 [importlib-metadata]\n",
      "   --------------------------------- ------ 5/6 [dash]\n",
      "   --------------------------------- ------ 5/6 [dash]\n",
      "   --------------------------------- ------ 5/6 [dash]\n",
      "   --------------------------------- ------ 5/6 [dash]\n",
      "   --------------------------------- ------ 5/6 [dash]\n",
      "   --------------------------------- ------ 5/6 [dash]\n",
      "   --------------------------------- ------ 5/6 [dash]\n",
      "   --------------------------------- ------ 5/6 [dash]\n",
      "   --------------------------------- ------ 5/6 [dash]\n",
      "   --------------------------------- ------ 5/6 [dash]\n",
      "   --------------------------------- ------ 5/6 [dash]\n",
      "   ---------------------------------------- 6/6 [dash]\n",
      "\n",
      "Successfully installed dash-3.2.0 dash-core-components-2.0.0 dash-html-components-2.0.0 importlib-metadata-8.7.0 retrying-1.4.2 zipp-3.23.0\n",
      "Note: you may need to restart the kernel to use updated packages.\n"
     ]
    }
   ],
   "source": [
    "%pip install dash dash-core-components dash-html-components"
   ]
  },
  {
   "cell_type": "markdown",
   "metadata": {},
   "source": [
    "# CMA Model Tuning"
   ]
  },
  {
   "cell_type": "code",
   "execution_count": null,
   "metadata": {},
   "outputs": [],
   "source": [
    "import pfun_cma_model as pfun\n",
    "\n",
    "# Load sample data\n",
    "data = pfun.PFunDataPaths().read_sample_data()\n",
    "\n",
    "# Fit the model\n",
    "pfun.fit_model(data)\n",
    "\n",
    "# Visualize the results\n",
    "pfun."
   ]
  }
 ],
 "metadata": {
  "kernelspec": {
   "display_name": "data",
   "language": "python",
   "name": "python3"
  },
  "language_info": {
   "codemirror_mode": {
    "name": "ipython",
    "version": 3
   },
   "file_extension": ".py",
   "mimetype": "text/x-python",
   "name": "python",
   "nbconvert_exporter": "python",
   "pygments_lexer": "ipython3",
   "version": "3.12.10"
  },
  "orig_nbformat": 4
 },
 "nbformat": 4,
 "nbformat_minor": 2
}
