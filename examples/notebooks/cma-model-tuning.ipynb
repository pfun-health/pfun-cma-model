{
 "cells": [
  {
   "cell_type": "code",
   "execution_count": 1,
   "metadata": {},
   "outputs": [
    {
     "name": "stdout",
     "output_type": "stream",
     "text": [
      "Requirement already satisfied: dash in /home/robbiec/Git/pfun-cma-model/.venv/lib/python3.11/site-packages (2.18.2)\n",
      "Requirement already satisfied: dash-core-components in /home/robbiec/Git/pfun-cma-model/.venv/lib/python3.11/site-packages (2.0.0)\n",
      "Requirement already satisfied: dash-html-components in /home/robbiec/Git/pfun-cma-model/.venv/lib/python3.11/site-packages (2.0.0)\n",
      "Requirement already satisfied: Flask<3.1,>=1.0.4 in /home/robbiec/Git/pfun-cma-model/.venv/lib/python3.11/site-packages (from dash) (3.0.3)\n",
      "Requirement already satisfied: Werkzeug<3.1 in /home/robbiec/Git/pfun-cma-model/.venv/lib/python3.11/site-packages (from dash) (3.0.6)\n",
      "Requirement already satisfied: plotly>=5.0.0 in /home/robbiec/Git/pfun-cma-model/.venv/lib/python3.11/site-packages (from dash) (5.24.1)\n",
      "Requirement already satisfied: dash-table==5.0.0 in /home/robbiec/Git/pfun-cma-model/.venv/lib/python3.11/site-packages (from dash) (5.0.0)\n",
      "Requirement already satisfied: importlib-metadata in /home/robbiec/Git/pfun-cma-model/.venv/lib/python3.11/site-packages (from dash) (8.6.1)\n",
      "Requirement already satisfied: typing-extensions>=4.1.1 in /home/robbiec/Git/pfun-cma-model/.venv/lib/python3.11/site-packages (from dash) (4.13.2)\n",
      "Requirement already satisfied: requests in /home/robbiec/Git/pfun-cma-model/.venv/lib/python3.11/site-packages (from dash) (2.32.3)\n",
      "Requirement already satisfied: retrying in /home/robbiec/Git/pfun-cma-model/.venv/lib/python3.11/site-packages (from dash) (1.3.4)\n",
      "Requirement already satisfied: nest-asyncio in /home/robbiec/Git/pfun-cma-model/.venv/lib/python3.11/site-packages (from dash) (1.6.0)\n",
      "Requirement already satisfied: setuptools in /home/robbiec/Git/pfun-cma-model/.venv/lib/python3.11/site-packages (from dash) (68.2.2)\n",
      "Requirement already satisfied: Jinja2>=3.1.2 in /home/robbiec/Git/pfun-cma-model/.venv/lib/python3.11/site-packages (from Flask<3.1,>=1.0.4->dash) (3.1.6)\n",
      "Requirement already satisfied: itsdangerous>=2.1.2 in /home/robbiec/Git/pfun-cma-model/.venv/lib/python3.11/site-packages (from Flask<3.1,>=1.0.4->dash) (2.2.0)\n",
      "Requirement already satisfied: click>=8.1.3 in /home/robbiec/Git/pfun-cma-model/.venv/lib/python3.11/site-packages (from Flask<3.1,>=1.0.4->dash) (8.1.8)\n",
      "Requirement already satisfied: blinker>=1.6.2 in /home/robbiec/Git/pfun-cma-model/.venv/lib/python3.11/site-packages (from Flask<3.1,>=1.0.4->dash) (1.9.0)\n",
      "Requirement already satisfied: tenacity>=6.2.0 in /home/robbiec/Git/pfun-cma-model/.venv/lib/python3.11/site-packages (from plotly>=5.0.0->dash) (9.1.2)\n",
      "Requirement already satisfied: packaging in /home/robbiec/Git/pfun-cma-model/.venv/lib/python3.11/site-packages (from plotly>=5.0.0->dash) (25.0)\n",
      "Requirement already satisfied: MarkupSafe>=2.1.1 in /home/robbiec/Git/pfun-cma-model/.venv/lib/python3.11/site-packages (from Werkzeug<3.1->dash) (3.0.2)\n",
      "Requirement already satisfied: zipp>=3.20 in /home/robbiec/Git/pfun-cma-model/.venv/lib/python3.11/site-packages (from importlib-metadata->dash) (3.21.0)\n",
      "Requirement already satisfied: charset-normalizer<4,>=2 in /home/robbiec/Git/pfun-cma-model/.venv/lib/python3.11/site-packages (from requests->dash) (3.4.1)\n",
      "Requirement already satisfied: idna<4,>=2.5 in /home/robbiec/Git/pfun-cma-model/.venv/lib/python3.11/site-packages (from requests->dash) (3.10)\n",
      "Requirement already satisfied: urllib3<3,>=1.21.1 in /home/robbiec/Git/pfun-cma-model/.venv/lib/python3.11/site-packages (from requests->dash) (2.4.0)\n",
      "Requirement already satisfied: certifi>=2017.4.17 in /home/robbiec/Git/pfun-cma-model/.venv/lib/python3.11/site-packages (from requests->dash) (2025.1.31)\n",
      "Requirement already satisfied: six>=1.7.0 in /home/robbiec/Git/pfun-cma-model/.venv/lib/python3.11/site-packages (from retrying->dash) (1.17.0)\n",
      "Note: you may need to restart the kernel to use updated packages.\n"
     ]
    }
   ],
   "source": [
    "%pip install dash dash-core-components dash-html-components"
   ]
  },
  {
   "cell_type": "markdown",
   "metadata": {},
   "source": [
    "# CMA Model Tuning"
   ]
  },
  {
   "cell_type": "code",
   "execution_count": 2,
   "metadata": {},
   "outputs": [
    {
     "name": "stderr",
     "output_type": "stream",
     "text": [
      "2025-04-23 05:26:19,938 - WARNING - Failed to append package path to sys.path. Please check your package name and directory location.\n"
     ]
    },
    {
     "data": {
      "text/html": [
       "\n",
       "        <iframe\n",
       "            width=\"100%\"\n",
       "            height=\"650\"\n",
       "            src=\"http://0.0.0.0:8050/\"\n",
       "            frameborder=\"0\"\n",
       "            allowfullscreen\n",
       "            \n",
       "        ></iframe>\n",
       "        "
      ],
      "text/plain": [
       "<IPython.lib.display.IFrame at 0x7c98855fc7d0>"
      ]
     },
     "metadata": {},
     "output_type": "display_data"
    }
   ],
   "source": [
    "%run ../dash_ui/ui.py"
   ]
  },
  {
   "cell_type": "code",
   "execution_count": null,
   "metadata": {},
   "outputs": [],
   "source": []
  }
 ],
 "metadata": {
  "kernelspec": {
   "display_name": ".venv",
   "language": "python",
   "name": "python3"
  },
  "language_info": {
   "codemirror_mode": {
    "name": "ipython",
    "version": 3
   },
   "file_extension": ".py",
   "mimetype": "text/x-python",
   "name": "python",
   "nbconvert_exporter": "python",
   "pygments_lexer": "ipython3",
   "version": "3.11.2"
  },
  "orig_nbformat": 4
 },
 "nbformat": 4,
 "nbformat_minor": 2
}
