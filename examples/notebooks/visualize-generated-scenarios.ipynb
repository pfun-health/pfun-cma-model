{
 "cells": [
  {
   "cell_type": "markdown",
   "id": "c0feb5d7",
   "metadata": {},
   "source": [
    "# Visualize generated scenarios\n",
    "\n",
    "(from the `/llm/generate/scenario` endpoint)"
   ]
  },
  {
   "cell_type": "markdown",
   "id": "6bd9e764",
   "metadata": {},
   "source": [
    "## Demonstrate a generated scenario (`curl`)"
   ]
  },
  {
   "cell_type": "code",
   "execution_count": null,
   "id": "1a88ee73",
   "metadata": {},
   "outputs": [
    {
     "name": "stderr",
     "output_type": "stream",
     "text": [
      "  % Total    % Received % Xferd  Average Speed   Time    Time     Time  Current\n",
      "                                 Dload  Upload   Total   Spent    Left  Speed\n",
      "  0     0    0     0    0     0      0      0 --:--:-- --:--:-- --:--:--     0"
     ]
    },
    {
     "name": "stderr",
     "output_type": "stream",
     "text": [
      "100    35    0     0  100    35      0      1  0:00:35  0:00:16  0:00:01     0 15   10 0:00:04 --:--:--     8      0      6  0:00:05  0:00:05 --:--:--     6   5  0:00:07  0:00:06  0:00:01     008  0:00:07  0:00:01     0--:--:--     0     0:11  0:00:10  0:00:01     0  2  0:00:17  0:00:12  0:00:05     0 0:00:13  0:00:04     0      2  0:00:17  0:00:14  0:00:03     00:17  0:00:15  0:00:02     0:17 --:--:--     0      0      1  0:00:35  0:00:18  0:00:17     0     1  0:00:35  0:00:19  0:00:16     0    1  0:00:35  0:00:20  0:00:15     035      0      1  0:00:35  0:00:21  0:00:14     0:22  0:00:13     00      1  0:00:35  0:00:23  0:00:12     0    1  0:00:35  0:00:24  0:00:11     00:25  0:00:10     00:35  0:00:26  0:00:09     0"
     ]
    },
    {
     "name": "stdout",
     "output_type": "stream",
     "text": [
      "{\"qualitative_description\":\"This individual maintains a very consistent and healthy lifestyle. They follow a balanced diet with regular meal times, engage in moderate physical activity daily, and prioritize getting 7-8 hours of sleep each night. Their stress levels are low, and they have a well-established routine for managing their diabetes. Their blood glucose levels are generally stable and within their target range, with predictable patterns and few unexpected fluctuations.\",\"parameters\":{\"d\":0,\"taup\":1,\"taug\":1,\"B\":0.05,\"Cm\":0,\"toff\":0},\"sample_solutions\":[{\"t\":0.0,\"c\":0.0830452722,\"m\":0.8535533906,\"a\":0.2507233447,\"I_S\":0.1529527985,\"I_E\":0.0383488372,\"L\":0.0,\"g_0\":0.1,\"g_1\":0.1,\"g_2\":0.1,\"G\":0.3,\"is_meal\":false},{\"t\":1.0434782609,\"c\":0.0380090513,\"m\":0.9358301507,\"a\":0.2539293579,\"I_S\":0.0835026721,\"I_E\":0.0212037799,\"L\":3e-08,\"g_0\":0.1,\"g_1\":0.1,\"g_2\":0.1,\"G\":0.3,\"is_meal\":false},{\"t\":2.0869565217,\"c\":0.0214209099,\"m\":0.98574969,\"a\":0.2627732222,\"I_S\":0.0388959914,\"I_E\":0.010220825,\"L\":1.14478e-05,\"g_0\":0.1,\"g_1\":0.1,\"g_2\":0.1,\"G\":0.3,\"is_meal\":false},{\"t\":3.1304347826,\"c\":0.018137561,\"m\":0.9970919474,\"a\":0.2807421255,\"I_S\":0.028649172,\"I_E\":0.0080430294,\"L\":0.0008732045,\"g_0\":0.1,\"g_1\":0.1,\"g_2\":0.1,\"G\":0.3,\"is_meal\":false},{\"t\":4.1739130435,\"c\":0.0406263784,\"m\":0.9241524904,\"a\":0.3102280959,\"I_S\":0.0942280173,\"I_E\":0.0292321784,\"L\":0.0182225189,\"g_0\":0.1,\"g_1\":0.1,\"g_2\":0.1,\"G\":0.3,\"is_meal\":false},{\"t\":5.2173913043,\"c\":0.3938120152,\"m\":0.5992820998,\"a\":0.3490666056,\"I_S\":0.3281195997,\"I_E\":0.1145355949,\"L\":0.1325418824,\"g_0\":0.1,\"g_1\":0.1,\"g_2\":0.1,\"G\":0.3,\"is_meal\":false},{\"t\":6.2608695652,\"c\":0.9279522878,\"m\":0.1703963935,\"a\":0.4056274734,\"I_S\":0.6212864721,\"I_E\":0.252010862,\"L\":0.4097470471,\"g_0\":0.1,\"g_1\":0.1,\"g_2\":0.1,\"G\":0.3,\"is_meal\":false},{\"t\":7.3043478261,\"c\":0.990231427,\"m\":0.0183183028,\"a\":0.4707866406,\"I_S\":0.7544780181,\"I_E\":0.3551981715,\"L\":0.7051652291,\"g_0\":0.8497368405,\"g_1\":0.1,\"g_2\":0.1,\"G\":1.0497368405,\"is_meal\":true},{\"t\":8.347826087,\"c\":0.9453827912,\"m\":0.0007943753,\"a\":0.5408364261,\"I_S\":0.781791414,\"I_E\":0.4228212743,\"L\":0.8892608874,\"g_0\":0.4417664486,\"g_1\":0.1,\"g_2\":0.1,\"G\":0.6417664486,\"is_meal\":false},{\"t\":9.3913043478,\"c\":0.8959669925,\"m\":1.08762e-05,\"a\":0.611056308,\"I_S\":0.7939170419,\"I_E\":0.4851280164,\"L\":0.9710630727,\"g_0\":0.1755985361,\"g_1\":0.1,\"g_2\":0.1,\"G\":0.3755985361,\"is_meal\":false},{\"t\":10.4347826087,\"c\":0.8468895341,\"m\":1.67e-08,\"a\":0.6741481839,\"I_S\":0.8052153909,\"I_E\":0.5428344935,\"L\":0.9962487446,\"g_0\":0.1205483507,\"g_1\":0.1,\"g_2\":0.1,\"G\":0.3205483507,\"is_meal\":false},{\"t\":11.4782608696,\"c\":0.7978302583,\"m\":0.0,\"a\":0.7213867602,\"I_S\":0.8164990406,\"I_E\":0.5890115976,\"L\":0.999953688,\"g_0\":0.1066890291,\"g_1\":0.9165036625,\"g_2\":0.1,\"G\":1.1231926916,\"is_meal\":true},{\"t\":12.5217391304,\"c\":0.7495150179,\"m\":0.0,\"a\":0.7433882267,\"I_S\":0.8276115459,\"I_E\":0.6152366795,\"L\":0.999953688,\"g_0\":0.1025138173,\"g_1\":0.333193076,\"g_2\":0.1,\"G\":0.5357068932,\"is_meal\":false},{\"t\":13.5652173913,\"c\":0.7021980408,\"m\":1.8e-09,\"a\":0.7319539205,\"I_S\":0.8384944488,\"I_E\":0.6137392992,\"L\":0.9962487446,\"g_0\":0.1010632036,\"g_1\":0.1555741319,\"g_2\":0.1,\"G\":0.3566373354,\"is_meal\":false},{\"t\":14.6086956522,\"c\":0.655778862,\"m\":6.35e-08,\"a\":0.6828954289,\"I_S\":0.8491708001,\"I_E\":0.5798948577,\"L\":0.9710630727,\"g_0\":0.1004971256,\"g_1\":0.1165474896,\"g_2\":0.1,\"G\":0.3170446152,\"is_meal\":false},{\"t\":15.652173913,\"c\":0.6109701511,\"m\":9.8731e-06,\"a\":0.5990683435,\"I_S\":0.8594672884,\"I_E\":0.5148796447,\"L\":0.8892608874,\"g_0\":0.100253301,\"g_1\":0.1059282822,\"g_2\":0.1,\"G\":0.3061815832,\"is_meal\":false},{\"t\":16.6956521739,\"c\":0.5652728153,\"m\":0.0012420615,\"a\":0.4927579526,\"I_S\":0.8687824528,\"I_E\":0.4280994627,\"L\":0.7051652291,\"g_0\":0.1001385657,\"g_1\":0.1024473713,\"g_2\":0.1,\"G\":0.302585937,\"is_meal\":false},{\"t\":17.7391304348,\"c\":0.4727659974,\"m\":0.0253236297,\"a\":0.3862959294,\"I_S\":0.8666998998,\"I_E\":0.3348026433,\"L\":0.4097470471,\"g_0\":0.1000800258,\"g_1\":0.1011226915,\"g_2\":0.6652589215,\"G\":0.8664616388,\"is_meal\":true},{\"t\":18.7826086957,\"c\":0.2936575613,\"m\":0.1473735678,\"a\":0.3061460908,\"I_S\":0.7895064001,\"I_E\":0.2417042981,"
     ]
    },
    {
     "name": "stderr",
     "output_type": "stream",
     "text": [
      "100  5542  100  5507  100    35    208      1  0:00:35  0:00:26  0:00:09  1314\n"
     ]
    },
    {
     "name": "stdout",
     "output_type": "stream",
     "text": [
      "\"L\":0.1325418824,\"g_0\":0.1000482904,\"g_1\":0.1005590015,\"g_2\":0.5310349728,\"G\":0.7316422646,\"is_meal\":false},{\"t\":19.8260869565,\"c\":0.1823035565,\"m\":0.3300231124,\"a\":0.2652540915,\"I_S\":0.637947763,\"I_E\":0.1692182543,\"L\":0.0182225189,\"g_0\":0.1000297827,\"g_1\":0.100292864,\"g_2\":0.20462541,\"G\":0.4049480567,\"is_meal\":false},{\"t\":20.8695652174,\"c\":0.1327959552,\"m\":0.4816654608,\"a\":0.2524778631,\"I_S\":0.5022414334,\"I_E\":0.1268048439,\"L\":0.0008732045,\"g_0\":0.1000184894,\"g_1\":0.1001579958,\"g_2\":0.1302813849,\"G\":0.3304578701,\"is_meal\":false},{\"t\":21.9130434783,\"c\":0.0873966752,\"m\":0.6183609732,\"a\":0.2502021979,\"I_S\":0.3800886207,\"I_E\":0.0950990083,\"L\":1.14478e-05,\"g_0\":0.1000116861,\"g_1\":0.1000883661,\"g_2\":0.1103485482,\"G\":0.3104486004,\"is_meal\":false},{\"t\":22.9565217391,\"c\":0.046089926,\"m\":0.7450550414,\"a\":0.2500020598,\"I_S\":0.2666959268,\"I_E\":0.0666745311,\"L\":3e-08,\"g_0\":0.1000075448,\"g_1\":0.1000512318,\"g_2\":0.1040296155,\"G\":0.3040883921,\"is_meal\":false},{\"t\":24.0,\"c\":0.0202182535,\"m\":0.8535533906,\"a\":0.2499990113,\"I_S\":0.1674030129,\"I_E\":0.0418505877,\"L\":0.0,\"g_0\":0.1000049613,\"g_1\":0.1000306209,\"g_2\":0.1017335231,\"G\":0.3017691052,\"is_meal\":false}],\"causal_explanation\":[{\"action\":\"Eating balanced meals at regular times\",\"probability\":0.7},{\"action\":\"Engaging in moderate daily physical activity\",\"probability\":0.2},{\"action\":\"Adhering to a consistent diabetes management routine\",\"probability\":0.1}]}"
     ]
    }
   ],
   "source": [
    "# %%sh\n",
    "\n",
    "# curl -X 'POST' \\\n",
    "#   'http://localhost:8001/llm/generate/scenario' \\\n",
    "#   -H 'accept: application/json' \\\n",
    "#   -H 'Content-Type: application/json' \\\n",
    "#   -d '{\n",
    "#   \"query\": \"A healthy patient.\"\n",
    "# }'"
   ]
  },
  {
   "cell_type": "markdown",
   "id": "cae20fc4",
   "metadata": {},
   "source": [
    "## Generate using the `pfun-cma-model` CLI"
   ]
  },
  {
   "cell_type": "code",
   "execution_count": null,
   "id": "b541b532",
   "metadata": {},
   "outputs": [],
   "source": [
    "!pfun-cma-model generate-scenario"
   ]
  },
  {
   "cell_type": "markdown",
   "id": "184af920",
   "metadata": {},
   "source": [
    "## Load the scenario"
   ]
  },
  {
   "cell_type": "code",
   "execution_count": 3,
   "id": "7405023c",
   "metadata": {},
   "outputs": [
    {
     "data": {
      "text/plain": [
       "{'qualitative_description': 'This individual leads a very structured and healthy lifestyle, which contributes to excellent glycemic control. They maintain a balanced diet with consistent carbohydrate intake at each meal, engage in moderate physical activity daily, such as a brisk walk after dinner, and prioritize getting 7-8 hours of quality sleep each night. Their stress levels are low, and they live in a temperate climate with consistent daylight hours throughout the year. As a result, their blood glucose levels are generally stable and predictable.',\n",
       " 'parameters': {'d': 0, 'taup': 1, 'taug': 1, 'B': 0.05, 'Cm': 0, 'toff': 0},\n",
       " 'sample_solutions': [{'t': 0,\n",
       "   'c': 0.0830452722,\n",
       "   'm': 0.8535533906,\n",
       "   'a': 0.2507233447,\n",
       "   'I_S': 0.1529527985,\n",
       "   'I_E': 0.0383488372,\n",
       "   'L': 0,\n",
       "   'g_0': 0.1,\n",
       "   'g_1': 0.1,\n",
       "   'g_2': 0.1,\n",
       "   'G': 0.3,\n",
       "   'is_meal': False},\n",
       "  {'t': 1.0434782609,\n",
       "   'c': 0.0380090513,\n",
       "   'm': 0.9358301507,\n",
       "   'a': 0.2539293579,\n",
       "   'I_S': 0.0835026721,\n",
       "   'I_E': 0.0212037799,\n",
       "   'L': 3e-08,\n",
       "   'g_0': 0.1,\n",
       "   'g_1': 0.1,\n",
       "   'g_2': 0.1,\n",
       "   'G': 0.3,\n",
       "   'is_meal': False},\n",
       "  {'t': 2.0869565217,\n",
       "   'c': 0.0214209099,\n",
       "   'm': 0.98574969,\n",
       "   'a': 0.2627732222,\n",
       "   'I_S': 0.0388959914,\n",
       "   'I_E': 0.010220825,\n",
       "   'L': 1.14478e-05,\n",
       "   'g_0': 0.1,\n",
       "   'g_1': 0.1,\n",
       "   'g_2': 0.1,\n",
       "   'G': 0.3,\n",
       "   'is_meal': False},\n",
       "  {'t': 3.1304347826,\n",
       "   'c': 0.018137561,\n",
       "   'm': 0.9970919474,\n",
       "   'a': 0.2807421255,\n",
       "   'I_S': 0.028649172,\n",
       "   'I_E': 0.0080430294,\n",
       "   'L': 0.0008732045,\n",
       "   'g_0': 0.1,\n",
       "   'g_1': 0.1,\n",
       "   'g_2': 0.1,\n",
       "   'G': 0.3,\n",
       "   'is_meal': False},\n",
       "  {'t': 4.1739130435,\n",
       "   'c': 0.0406263784,\n",
       "   'm': 0.9241524904,\n",
       "   'a': 0.3102280959,\n",
       "   'I_S': 0.0942280173,\n",
       "   'I_E': 0.0292321784,\n",
       "   'L': 0.0182225189,\n",
       "   'g_0': 0.1,\n",
       "   'g_1': 0.1,\n",
       "   'g_2': 0.1,\n",
       "   'G': 0.3,\n",
       "   'is_meal': False},\n",
       "  {'t': 5.2173913043,\n",
       "   'c': 0.3938120152,\n",
       "   'm': 0.5992820998,\n",
       "   'a': 0.3490666056,\n",
       "   'I_S': 0.3281195997,\n",
       "   'I_E': 0.1145355949,\n",
       "   'L': 0.1325418824,\n",
       "   'g_0': 0.1,\n",
       "   'g_1': 0.1,\n",
       "   'g_2': 0.1,\n",
       "   'G': 0.3,\n",
       "   'is_meal': False},\n",
       "  {'t': 6.2608695652,\n",
       "   'c': 0.9279522878,\n",
       "   'm': 0.1703963935,\n",
       "   'a': 0.4056274734,\n",
       "   'I_S': 0.6212864721,\n",
       "   'I_E': 0.252010862,\n",
       "   'L': 0.4097470471,\n",
       "   'g_0': 0.1,\n",
       "   'g_1': 0.1,\n",
       "   'g_2': 0.1,\n",
       "   'G': 0.3,\n",
       "   'is_meal': False},\n",
       "  {'t': 7.3043478261,\n",
       "   'c': 0.990231427,\n",
       "   'm': 0.0183183028,\n",
       "   'a': 0.4707866406,\n",
       "   'I_S': 0.7544780181,\n",
       "   'I_E': 0.3551981715,\n",
       "   'L': 0.7051652291,\n",
       "   'g_0': 0.8497368405,\n",
       "   'g_1': 0.1,\n",
       "   'g_2': 0.1,\n",
       "   'G': 1.0497368405,\n",
       "   'is_meal': True},\n",
       "  {'t': 8.347826087,\n",
       "   'c': 0.9453827912,\n",
       "   'm': 0.0007943753,\n",
       "   'a': 0.5408364261,\n",
       "   'I_S': 0.781791414,\n",
       "   'I_E': 0.4228212743,\n",
       "   'L': 0.8892608874,\n",
       "   'g_0': 0.4417664486,\n",
       "   'g_1': 0.1,\n",
       "   'g_2': 0.1,\n",
       "   'G': 0.6417664486,\n",
       "   'is_meal': False},\n",
       "  {'t': 9.3913043478,\n",
       "   'c': 0.8959669925,\n",
       "   'm': 1.08762e-05,\n",
       "   'a': 0.611056308,\n",
       "   'I_S': 0.7939170419,\n",
       "   'I_E': 0.4851280164,\n",
       "   'L': 0.9710630727,\n",
       "   'g_0': 0.1755985361,\n",
       "   'g_1': 0.1,\n",
       "   'g_2': 0.1,\n",
       "   'G': 0.3755985361,\n",
       "   'is_meal': False},\n",
       "  {'t': 10.4347826087,\n",
       "   'c': 0.8468895341,\n",
       "   'm': 1.67e-08,\n",
       "   'a': 0.6741481839,\n",
       "   'I_S': 0.8052153909,\n",
       "   'I_E': 0.5428344935,\n",
       "   'L': 0.9962487446,\n",
       "   'g_0': 0.1205483507,\n",
       "   'g_1': 0.1,\n",
       "   'g_2': 0.1,\n",
       "   'G': 0.3205483507,\n",
       "   'is_meal': False},\n",
       "  {'t': 11.4782608696,\n",
       "   'c': 0.7978302583,\n",
       "   'm': 0,\n",
       "   'a': 0.7213867602,\n",
       "   'I_S': 0.8164990406,\n",
       "   'I_E': 0.5890115976,\n",
       "   'L': 0.999953688,\n",
       "   'g_0': 0.1066890291,\n",
       "   'g_1': 0.9165036625,\n",
       "   'g_2': 0.1,\n",
       "   'G': 1.1231926916,\n",
       "   'is_meal': True},\n",
       "  {'t': 12.5217391304,\n",
       "   'c': 0.7495150179,\n",
       "   'm': 0,\n",
       "   'a': 0.7433882267,\n",
       "   'I_S': 0.8276115459,\n",
       "   'I_E': 0.6152366795,\n",
       "   'L': 0.999953688,\n",
       "   'g_0': 0.1025138173,\n",
       "   'g_1': 0.333193076,\n",
       "   'g_2': 0.1,\n",
       "   'G': 0.5357068932,\n",
       "   'is_meal': False},\n",
       "  {'t': 13.5652173913,\n",
       "   'c': 0.7021980408,\n",
       "   'm': 1.8e-09,\n",
       "   'a': 0.7319539205,\n",
       "   'I_S': 0.8384944488,\n",
       "   'I_E': 0.6137392992,\n",
       "   'L': 0.9962487446,\n",
       "   'g_0': 0.1010632036,\n",
       "   'g_1': 0.1555741319,\n",
       "   'g_2': 0.1,\n",
       "   'G': 0.3566373354,\n",
       "   'is_meal': False},\n",
       "  {'t': 14.6086956522,\n",
       "   'c': 0.655778862,\n",
       "   'm': 6.35e-08,\n",
       "   'a': 0.6828954289,\n",
       "   'I_S': 0.8491708001,\n",
       "   'I_E': 0.5798948577,\n",
       "   'L': 0.9710630727,\n",
       "   'g_0': 0.1004971256,\n",
       "   'g_1': 0.1165474896,\n",
       "   'g_2': 0.1,\n",
       "   'G': 0.3170446152,\n",
       "   'is_meal': False},\n",
       "  {'t': 15.652173913,\n",
       "   'c': 0.6109701511,\n",
       "   'm': 9.8731e-06,\n",
       "   'a': 0.5990683435,\n",
       "   'I_S': 0.8594672884,\n",
       "   'I_E': 0.5148796447,\n",
       "   'L': 0.8892608874,\n",
       "   'g_0': 0.100253301,\n",
       "   'g_1': 0.1059282822,\n",
       "   'g_2': 0.1,\n",
       "   'G': 0.3061815832,\n",
       "   'is_meal': False},\n",
       "  {'t': 16.6956521739,\n",
       "   'c': 0.5652728153,\n",
       "   'm': 0.0012420615,\n",
       "   'a': 0.4927579526,\n",
       "   'I_S': 0.8687824528,\n",
       "   'I_E': 0.4280994627,\n",
       "   'L': 0.7051652291,\n",
       "   'g_0': 0.1001385657,\n",
       "   'g_1': 0.1024473713,\n",
       "   'g_2': 0.1,\n",
       "   'G': 0.302585937,\n",
       "   'is_meal': False},\n",
       "  {'t': 17.7391304348,\n",
       "   'c': 0.4727659974,\n",
       "   'm': 0.0253236297,\n",
       "   'a': 0.3862959294,\n",
       "   'I_S': 0.8666998998,\n",
       "   'I_E': 0.3348026433,\n",
       "   'L': 0.4097470471,\n",
       "   'g_0': 0.1000800258,\n",
       "   'g_1': 0.1011226915,\n",
       "   'g_2': 0.6652589215,\n",
       "   'G': 0.8664616388,\n",
       "   'is_meal': True},\n",
       "  {'t': 18.7826086957,\n",
       "   'c': 0.2936575613,\n",
       "   'm': 0.1473735678,\n",
       "   'a': 0.3061460908,\n",
       "   'I_S': 0.7895064001,\n",
       "   'I_E': 0.2417042981,\n",
       "   'L': 0.1325418824,\n",
       "   'g_0': 0.1000482904,\n",
       "   'g_1': 0.1005590015,\n",
       "   'g_2': 0.5310349728,\n",
       "   'G': 0.7316422646,\n",
       "   'is_meal': False},\n",
       "  {'t': 19.8260869565,\n",
       "   'c': 0.1823035565,\n",
       "   'm': 0.3300231124,\n",
       "   'a': 0.2652540915,\n",
       "   'I_S': 0.637947763,\n",
       "   'I_E': 0.1692182543,\n",
       "   'L': 0.0182225189,\n",
       "   'g_0': 0.1000297827,\n",
       "   'g_1': 0.100292864,\n",
       "   'g_2': 0.20462541,\n",
       "   'G': 0.4049480567,\n",
       "   'is_meal': False},\n",
       "  {'t': 20.8695652174,\n",
       "   'c': 0.1327959552,\n",
       "   'm': 0.4816654608,\n",
       "   'a': 0.2524778631,\n",
       "   'I_S': 0.5022414334,\n",
       "   'I_E': 0.1268048439,\n",
       "   'L': 0.0008732045,\n",
       "   'g_0': 0.1000184894,\n",
       "   'g_1': 0.1001579958,\n",
       "   'g_2': 0.1302813849,\n",
       "   'G': 0.3304578701,\n",
       "   'is_meal': False},\n",
       "  {'t': 21.9130434783,\n",
       "   'c': 0.0873966752,\n",
       "   'm': 0.6183609732,\n",
       "   'a': 0.2502021979,\n",
       "   'I_S': 0.3800886207,\n",
       "   'I_E': 0.0950990083,\n",
       "   'L': 1.14478e-05,\n",
       "   'g_0': 0.1000116861,\n",
       "   'g_1': 0.1000883661,\n",
       "   'g_2': 0.1103485482,\n",
       "   'G': 0.3104486004,\n",
       "   'is_meal': False},\n",
       "  {'t': 22.9565217391,\n",
       "   'c': 0.046089926,\n",
       "   'm': 0.7450550414,\n",
       "   'a': 0.2500020598,\n",
       "   'I_S': 0.2666959268,\n",
       "   'I_E': 0.0666745311,\n",
       "   'L': 3e-08,\n",
       "   'g_0': 0.1000075448,\n",
       "   'g_1': 0.1000512318,\n",
       "   'g_2': 0.1040296155,\n",
       "   'G': 0.3040883921,\n",
       "   'is_meal': False},\n",
       "  {'t': 24,\n",
       "   'c': 0.0202182535,\n",
       "   'm': 0.8535533906,\n",
       "   'a': 0.2499990113,\n",
       "   'I_S': 0.1674030129,\n",
       "   'I_E': 0.0418505877,\n",
       "   'L': 0,\n",
       "   'g_0': 0.1000049613,\n",
       "   'g_1': 0.1000306209,\n",
       "   'g_2': 0.1017335231,\n",
       "   'G': 0.3017691052,\n",
       "   'is_meal': False}],\n",
       " 'causal_explanation': [{'action': 'Ate balanced meals with consistent carbohydrate content at regular intervals',\n",
       "   'probability': 0.6},\n",
       "  {'action': 'Engaged in physical activity after dinner', 'probability': 0.3},\n",
       "  {'action': 'Maintained a consistent sleep schedule and low stress levels',\n",
       "   'probability': 0.1}]}"
      ]
     },
     "execution_count": 3,
     "metadata": {},
     "output_type": "execute_result"
    }
   ],
   "source": [
    "import json\n",
    "from pathlib import Path\n",
    "import pandas as pd\n",
    "\n",
    "response_fpath = Path('../../results/generated-responses/response_1760175858463.json')\n",
    "\n",
    "response_json = json.loads(response_fpath.read_text())\n",
    "\n",
    "response_json"
   ]
  },
  {
   "cell_type": "code",
   "execution_count": 8,
   "id": "32b33d48",
   "metadata": {},
   "outputs": [
    {
     "data": {
      "text/plain": [
       "'This individual leads a very structured and healthy lifestyle, which contributes to excellent glycemic control. They maintain a balanced diet with consistent carbohydrate intake at each meal, engage in moderate physical activity daily, such as a brisk walk after dinner, and prioritize getting 7-8 hours of quality sleep each night. Their stress levels are low, and they live in a temperate climate with consistent daylight hours throughout the year. As a result, their blood glucose levels are generally stable and predictable.'"
      ]
     },
     "execution_count": 8,
     "metadata": {},
     "output_type": "execute_result"
    }
   ],
   "source": [
    "# Description\n",
    "\n",
    "response_json[\"qualitative_description\"]"
   ]
  },
  {
   "cell_type": "code",
   "execution_count": 5,
   "id": "a617a0e8",
   "metadata": {},
   "outputs": [
    {
     "data": {
      "application/vnd.microsoft.datawrangler.viewer.v0+json": {
       "columns": [
        {
         "name": "index",
         "rawType": "int64",
         "type": "integer"
        },
        {
         "name": "t",
         "rawType": "float64",
         "type": "float"
        },
        {
         "name": "c",
         "rawType": "float64",
         "type": "float"
        },
        {
         "name": "m",
         "rawType": "float64",
         "type": "float"
        },
        {
         "name": "a",
         "rawType": "float64",
         "type": "float"
        },
        {
         "name": "I_S",
         "rawType": "float64",
         "type": "float"
        },
        {
         "name": "I_E",
         "rawType": "float64",
         "type": "float"
        },
        {
         "name": "L",
         "rawType": "float64",
         "type": "float"
        },
        {
         "name": "g_0",
         "rawType": "float64",
         "type": "float"
        },
        {
         "name": "g_1",
         "rawType": "float64",
         "type": "float"
        },
        {
         "name": "g_2",
         "rawType": "float64",
         "type": "float"
        },
        {
         "name": "G",
         "rawType": "float64",
         "type": "float"
        },
        {
         "name": "is_meal",
         "rawType": "bool",
         "type": "boolean"
        }
       ],
       "ref": "f2317517-18c5-4a4c-9b82-97c737360cc6",
       "rows": [
        [
         "0",
         "0.0",
         "0.0830452722",
         "0.8535533906",
         "0.2507233447",
         "0.1529527985",
         "0.0383488372",
         "0.0",
         "0.1",
         "0.1",
         "0.1",
         "0.3",
         "False"
        ],
        [
         "1",
         "1.0434782609",
         "0.0380090513",
         "0.9358301507",
         "0.2539293579",
         "0.0835026721",
         "0.0212037799",
         "3e-08",
         "0.1",
         "0.1",
         "0.1",
         "0.3",
         "False"
        ],
        [
         "2",
         "2.0869565217",
         "0.0214209099",
         "0.98574969",
         "0.2627732222",
         "0.0388959914",
         "0.010220825",
         "1.14478e-05",
         "0.1",
         "0.1",
         "0.1",
         "0.3",
         "False"
        ],
        [
         "3",
         "3.1304347826",
         "0.018137561",
         "0.9970919474",
         "0.2807421255",
         "0.028649172",
         "0.0080430294",
         "0.0008732045",
         "0.1",
         "0.1",
         "0.1",
         "0.3",
         "False"
        ],
        [
         "4",
         "4.1739130435",
         "0.0406263784",
         "0.9241524904",
         "0.3102280959",
         "0.0942280173",
         "0.0292321784",
         "0.0182225189",
         "0.1",
         "0.1",
         "0.1",
         "0.3",
         "False"
        ]
       ],
       "shape": {
        "columns": 12,
        "rows": 5
       }
      },
      "text/html": [
       "<div>\n",
       "<style scoped>\n",
       "    .dataframe tbody tr th:only-of-type {\n",
       "        vertical-align: middle;\n",
       "    }\n",
       "\n",
       "    .dataframe tbody tr th {\n",
       "        vertical-align: top;\n",
       "    }\n",
       "\n",
       "    .dataframe thead th {\n",
       "        text-align: right;\n",
       "    }\n",
       "</style>\n",
       "<table border=\"1\" class=\"dataframe\">\n",
       "  <thead>\n",
       "    <tr style=\"text-align: right;\">\n",
       "      <th></th>\n",
       "      <th>t</th>\n",
       "      <th>c</th>\n",
       "      <th>m</th>\n",
       "      <th>a</th>\n",
       "      <th>I_S</th>\n",
       "      <th>I_E</th>\n",
       "      <th>L</th>\n",
       "      <th>g_0</th>\n",
       "      <th>g_1</th>\n",
       "      <th>g_2</th>\n",
       "      <th>G</th>\n",
       "      <th>is_meal</th>\n",
       "    </tr>\n",
       "  </thead>\n",
       "  <tbody>\n",
       "    <tr>\n",
       "      <th>0</th>\n",
       "      <td>0.000000</td>\n",
       "      <td>0.083045</td>\n",
       "      <td>0.853553</td>\n",
       "      <td>0.250723</td>\n",
       "      <td>0.152953</td>\n",
       "      <td>0.038349</td>\n",
       "      <td>0.000000e+00</td>\n",
       "      <td>0.1</td>\n",
       "      <td>0.1</td>\n",
       "      <td>0.1</td>\n",
       "      <td>0.3</td>\n",
       "      <td>False</td>\n",
       "    </tr>\n",
       "    <tr>\n",
       "      <th>1</th>\n",
       "      <td>1.043478</td>\n",
       "      <td>0.038009</td>\n",
       "      <td>0.935830</td>\n",
       "      <td>0.253929</td>\n",
       "      <td>0.083503</td>\n",
       "      <td>0.021204</td>\n",
       "      <td>3.000000e-08</td>\n",
       "      <td>0.1</td>\n",
       "      <td>0.1</td>\n",
       "      <td>0.1</td>\n",
       "      <td>0.3</td>\n",
       "      <td>False</td>\n",
       "    </tr>\n",
       "    <tr>\n",
       "      <th>2</th>\n",
       "      <td>2.086957</td>\n",
       "      <td>0.021421</td>\n",
       "      <td>0.985750</td>\n",
       "      <td>0.262773</td>\n",
       "      <td>0.038896</td>\n",
       "      <td>0.010221</td>\n",
       "      <td>1.144780e-05</td>\n",
       "      <td>0.1</td>\n",
       "      <td>0.1</td>\n",
       "      <td>0.1</td>\n",
       "      <td>0.3</td>\n",
       "      <td>False</td>\n",
       "    </tr>\n",
       "    <tr>\n",
       "      <th>3</th>\n",
       "      <td>3.130435</td>\n",
       "      <td>0.018138</td>\n",
       "      <td>0.997092</td>\n",
       "      <td>0.280742</td>\n",
       "      <td>0.028649</td>\n",
       "      <td>0.008043</td>\n",
       "      <td>8.732045e-04</td>\n",
       "      <td>0.1</td>\n",
       "      <td>0.1</td>\n",
       "      <td>0.1</td>\n",
       "      <td>0.3</td>\n",
       "      <td>False</td>\n",
       "    </tr>\n",
       "    <tr>\n",
       "      <th>4</th>\n",
       "      <td>4.173913</td>\n",
       "      <td>0.040626</td>\n",
       "      <td>0.924152</td>\n",
       "      <td>0.310228</td>\n",
       "      <td>0.094228</td>\n",
       "      <td>0.029232</td>\n",
       "      <td>1.822252e-02</td>\n",
       "      <td>0.1</td>\n",
       "      <td>0.1</td>\n",
       "      <td>0.1</td>\n",
       "      <td>0.3</td>\n",
       "      <td>False</td>\n",
       "    </tr>\n",
       "  </tbody>\n",
       "</table>\n",
       "</div>"
      ],
      "text/plain": [
       "          t         c         m         a       I_S       I_E             L  \\\n",
       "0  0.000000  0.083045  0.853553  0.250723  0.152953  0.038349  0.000000e+00   \n",
       "1  1.043478  0.038009  0.935830  0.253929  0.083503  0.021204  3.000000e-08   \n",
       "2  2.086957  0.021421  0.985750  0.262773  0.038896  0.010221  1.144780e-05   \n",
       "3  3.130435  0.018138  0.997092  0.280742  0.028649  0.008043  8.732045e-04   \n",
       "4  4.173913  0.040626  0.924152  0.310228  0.094228  0.029232  1.822252e-02   \n",
       "\n",
       "   g_0  g_1  g_2    G  is_meal  \n",
       "0  0.1  0.1  0.1  0.3    False  \n",
       "1  0.1  0.1  0.1  0.3    False  \n",
       "2  0.1  0.1  0.1  0.3    False  \n",
       "3  0.1  0.1  0.1  0.3    False  \n",
       "4  0.1  0.1  0.1  0.3    False  "
      ]
     },
     "execution_count": 5,
     "metadata": {},
     "output_type": "execute_result"
    }
   ],
   "source": [
    "df = pd.DataFrame.from_records(response_json[\"sample_solutions\"])\n",
    "\n",
    "df.head()"
   ]
  },
  {
   "cell_type": "markdown",
   "id": "7a1f3c9e",
   "metadata": {},
   "source": [
    "## Visualize (simple)"
   ]
  },
  {
   "cell_type": "markdown",
   "id": "62d75ba0",
   "metadata": {},
   "source": [
    "### Glucose"
   ]
  },
  {
   "cell_type": "code",
   "execution_count": 6,
   "id": "74162ed7",
   "metadata": {},
   "outputs": [
    {
     "data": {
      "text/plain": [
       "<Axes: xlabel='t'>"
      ]
     },
     "execution_count": 6,
     "metadata": {},
     "output_type": "execute_result"
    },
    {
     "data": {
      "image/png": "[encoded data removed]",
      "text/plain": [
       "<Figure size 640x480 with 1 Axes>"
      ]
     },
     "metadata": {},
     "output_type": "display_data"
    }
   ],
   "source": [
    "df.plot(x=\"t\", y=\"G\")"
   ]
  },
  {
   "cell_type": "markdown",
   "id": "2b0023f4",
   "metadata": {},
   "source": [
    "#### Endogenous currents\n",
    "\n",
    "\n",
    "- **I_S** : Insulin secretion (endogenous)\n",
    "- **I_E** : Effective Insulin (injected + endogenous)\n",
    "- **L** : (\"Light\") Photoperiod conveyed via hypothalamus"
   ]
  },
  {
   "cell_type": "code",
   "execution_count": 7,
   "id": "917243ae",
   "metadata": {},
   "outputs": [
    {
     "data": {
      "text/plain": [
       "<Axes: xlabel='t'>"
      ]
     },
     "execution_count": 7,
     "metadata": {},
     "output_type": "execute_result"
    },
    {
     "data": {
      "image/png": "[encoded data removed]",
      "text/plain": [
       "<Figure size 640x480 with 1 Axes>"
      ]
     },
     "metadata": {},
     "output_type": "display_data"
    }
   ],
   "source": [
    "df.plot(x=\"t\", y=[\"I_S\", \"I_E\", \"L\", ])"
   ]
  },
  {
   "cell_type": "code",
   "execution_count": null,
   "id": "490d0629",
   "metadata": {},
   "outputs": [],
   "source": []
  }
 ],
 "metadata": {
  "kernelspec": {
   "display_name": "pfun-cma-model",
   "language": "python",
   "name": "python3"
  },
  "language_info": {
   "codemirror_mode": {
    "name": "ipython",
    "version": 3
   },
   "file_extension": ".py",
   "mimetype": "text/x-python",
   "name": "python",
   "nbconvert_exporter": "python",
   "pygments_lexer": "ipython3",
   "version": "3.12.11"
  }
 },
 "nbformat": 4,
 "nbformat_minor": 5
}
