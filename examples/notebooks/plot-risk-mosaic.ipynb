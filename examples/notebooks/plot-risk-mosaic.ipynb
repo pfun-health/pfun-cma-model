{
 "cells": [
  {
   "cell_type": "code",
   "execution_count": null,
   "id": "249349c2",
   "metadata": {},
   "outputs": [],
   "source": [
    "import pfun_cma_model as pfuncma\n",
    "from pfun_cma_model.data import load_sample_data\n",
    "\n",
    "df = load_sample_data()\n",
    "df"
   ]
  },
  {
   "cell_type": "markdown",
   "id": "c3d981b9",
   "metadata": {},
   "source": [
    "# Risk Mosaic (Raw Data)"
   ]
  },
  {
   "cell_type": "code",
   "execution_count": null,
   "id": "b3c05f1a",
   "metadata": {},
   "outputs": [],
   "source": [
    "%matplotlib inline\n",
    "\n",
    "from pfun_common.plot import plot_risk_mosaic\n",
    "\n",
    "fig, axs = plot_risk_mosaic(df)\n",
    "\n",
    "display(fig)"
   ]
  },
  {
   "cell_type": "markdown",
   "id": "9d1b90c1",
   "metadata": {},
   "source": [
    "# Run the CMA Model"
   ]
  },
  {
   "cell_type": "code",
   "execution_count": null,
   "id": "5b16d4df",
   "metadata": {},
   "outputs": [],
   "source": [
    "model = pfuncma.CMASleepWakeModel()\n",
    "\n",
    "soln = model.run()\n",
    "soln"
   ]
  },
  {
   "cell_type": "markdown",
   "id": "e860af54",
   "metadata": {},
   "source": [
    "## Plot Synthetic Risk Mosaic"
   ]
  },
  {
   "cell_type": "code",
   "execution_count": null,
   "id": "84949d66",
   "metadata": {},
   "outputs": [],
   "source": [
    "fig1, axs1 = plot_risk_mosaic(soln, tcol='t', xcol='G')"
   ]
  }
 ],
 "metadata": {
  "kernelspec": {
   "display_name": "Python 3",
   "language": "python",
   "name": "python3"
  },
  "language_info": {
   "codemirror_mode": {
    "name": "ipython",
    "version": 3
   },
   "file_extension": ".py",
   "mimetype": "text/x-python",
   "name": "python",
   "nbconvert_exporter": "python",
   "pygments_lexer": "ipython3",
   "version": "3.12.11"
  }
 },
 "nbformat": 4,
 "nbformat_minor": 5
}
