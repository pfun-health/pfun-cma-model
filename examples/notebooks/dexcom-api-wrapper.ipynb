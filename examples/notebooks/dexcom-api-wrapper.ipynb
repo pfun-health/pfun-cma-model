{
 "cells": [
  {
   "cell_type": "code",
   "execution_count": 1,
   "metadata": {},
   "outputs": [
    {
     "name": "stdout",
     "output_type": "stream",
     "text": [
      "Requirement already satisfied: flask in d:\\robbiedocuments\\data\\.venv\\lib\\site-packages (3.1.2)\n",
      "Requirement already satisfied: requests in d:\\robbiedocuments\\data\\.venv\\lib\\site-packages (2.32.5)\n",
      "Requirement already satisfied: flask_oauthlib in d:\\robbiedocuments\\data\\.venv\\lib\\site-packages (0.9.6)\n",
      "Requirement already satisfied: blinker>=1.9.0 in d:\\robbiedocuments\\data\\.venv\\lib\\site-packages (from flask) (1.9.0)\n",
      "Requirement already satisfied: click>=8.1.3 in d:\\robbiedocuments\\data\\.venv\\lib\\site-packages (from flask) (8.2.1)\n",
      "Requirement already satisfied: itsdangerous>=2.2.0 in d:\\robbiedocuments\\data\\.venv\\lib\\site-packages (from flask) (2.2.0)\n",
      "Requirement already satisfied: jinja2>=3.1.2 in d:\\robbiedocuments\\data\\.venv\\lib\\site-packages (from flask) (3.1.6)\n",
      "Requirement already satisfied: markupsafe>=2.1.1 in d:\\robbiedocuments\\data\\.venv\\lib\\site-packages (from flask) (3.0.2)\n",
      "Requirement already satisfied: werkzeug>=3.1.0 in d:\\robbiedocuments\\data\\.venv\\lib\\site-packages (from flask) (3.1.3)\n",
      "Requirement already satisfied: charset_normalizer<4,>=2 in d:\\robbiedocuments\\data\\.venv\\lib\\site-packages (from requests) (3.4.3)\n",
      "Requirement already satisfied: idna<4,>=2.5 in d:\\robbiedocuments\\data\\.venv\\lib\\site-packages (from requests) (3.10)\n",
      "Requirement already satisfied: urllib3<3,>=1.21.1 in d:\\robbiedocuments\\data\\.venv\\lib\\site-packages (from requests) (2.5.0)\n",
      "Requirement already satisfied: certifi>=2017.4.17 in d:\\robbiedocuments\\data\\.venv\\lib\\site-packages (from requests) (2025.8.3)\n",
      "Requirement already satisfied: oauthlib!=2.0.3,!=2.0.4,!=2.0.5,<3.0.0,>=1.1.2 in d:\\robbiedocuments\\data\\.venv\\lib\\site-packages (from flask_oauthlib) (2.1.0)\n",
      "Requirement already satisfied: requests-oauthlib<1.2.0,>=0.6.2 in d:\\robbiedocuments\\data\\.venv\\lib\\site-packages (from flask_oauthlib) (1.1.0)\n",
      "Requirement already satisfied: cachelib in d:\\robbiedocuments\\data\\.venv\\lib\\site-packages (from flask_oauthlib) (0.13.0)\n",
      "Requirement already satisfied: colorama in d:\\robbiedocuments\\data\\.venv\\lib\\site-packages (from click>=8.1.3->flask) (0.4.6)\n",
      "Note: you may need to restart the kernel to use updated packages.\n"
     ]
    }
   ],
   "source": [
    "%pip install flask requests flask_oauthlib"
   ]
  },
  {
   "cell_type": "code",
   "execution_count": 2,
   "metadata": {},
   "outputs": [],
   "source": [
    "import os\n",
    "import json\n",
    "creds = json.loads(open(os.path.normpath(os.path.expanduser('~/.credentials/dexcom_pfun-app_glucose.json'))).read())\n",
    "os.environ['DEXCOM_CLIENT_ID'] = creds['client_id']\n",
    "os.environ['DEXCOM_CLIENT_SECRET'] = creds['client_secret']"
   ]
  },
  {
   "cell_type": "code",
   "execution_count": 3,
   "metadata": {},
   "outputs": [
    {
     "ename": "ImportError",
     "evalue": "cannot import name 'url_quote' from 'werkzeug.urls' (d:\\RobbieDocuments\\Data\\.venv\\Lib\\site-packages\\werkzeug\\urls.py)",
     "output_type": "error",
     "traceback": [
      "\u001b[31m---------------------------------------------------------------------------\u001b[39m",
      "\u001b[31mImportError\u001b[39m                               Traceback (most recent call last)",
      "\u001b[36mCell\u001b[39m\u001b[36m \u001b[39m\u001b[32mIn[3]\u001b[39m\u001b[32m, line 3\u001b[39m\n\u001b[32m      1\u001b[39m \u001b[38;5;28;01mimport\u001b[39;00m\u001b[38;5;250m \u001b[39m\u001b[34;01mos\u001b[39;00m\n\u001b[32m      2\u001b[39m \u001b[38;5;28;01mfrom\u001b[39;00m\u001b[38;5;250m \u001b[39m\u001b[34;01mflask\u001b[39;00m\u001b[38;5;250m \u001b[39m\u001b[38;5;28;01mimport\u001b[39;00m Flask, redirect, url_for, session, request\n\u001b[32m----> \u001b[39m\u001b[32m3\u001b[39m \u001b[38;5;28;01mfrom\u001b[39;00m\u001b[38;5;250m \u001b[39m\u001b[34;01mflask_oauthlib\u001b[39;00m\u001b[34;01m.\u001b[39;00m\u001b[34;01mclient\u001b[39;00m\u001b[38;5;250m \u001b[39m\u001b[38;5;28;01mimport\u001b[39;00m OAuth\n\u001b[32m      5\u001b[39m app = Flask(\u001b[34m__name__\u001b[39m)\n\u001b[32m      6\u001b[39m app.secret_key = \u001b[33m'\u001b[39m\u001b[33mrandom_secret_key\u001b[39m\u001b[33m'\u001b[39m  \u001b[38;5;66;03m# Change this to a random secret key\u001b[39;00m\n",
      "\u001b[36mFile \u001b[39m\u001b[32md:\\RobbieDocuments\\Data\\.venv\\Lib\\site-packages\\flask_oauthlib\\client.py:18\u001b[39m\n\u001b[32m     16\u001b[39m \u001b[38;5;28;01mfrom\u001b[39;00m\u001b[38;5;250m \u001b[39m\u001b[34;01moauthlib\u001b[39;00m\u001b[34;01m.\u001b[39;00m\u001b[34;01mcommon\u001b[39;00m\u001b[38;5;250m \u001b[39m\u001b[38;5;28;01mimport\u001b[39;00m to_unicode, PY3, add_params_to_uri\n\u001b[32m     17\u001b[39m \u001b[38;5;28;01mfrom\u001b[39;00m\u001b[38;5;250m \u001b[39m\u001b[34;01mflask\u001b[39;00m\u001b[38;5;250m \u001b[39m\u001b[38;5;28;01mimport\u001b[39;00m request, redirect, json, session, current_app\n\u001b[32m---> \u001b[39m\u001b[32m18\u001b[39m \u001b[38;5;28;01mfrom\u001b[39;00m\u001b[38;5;250m \u001b[39m\u001b[34;01mwerkzeug\u001b[39;00m\u001b[34;01m.\u001b[39;00m\u001b[34;01murls\u001b[39;00m\u001b[38;5;250m \u001b[39m\u001b[38;5;28;01mimport\u001b[39;00m url_quote, url_decode, url_encode\n\u001b[32m     19\u001b[39m \u001b[38;5;28;01mfrom\u001b[39;00m\u001b[38;5;250m \u001b[39m\u001b[34;01mwerkzeug\u001b[39;00m\u001b[34;01m.\u001b[39;00m\u001b[34;01mhttp\u001b[39;00m\u001b[38;5;250m \u001b[39m\u001b[38;5;28;01mimport\u001b[39;00m parse_options_header\n\u001b[32m     20\u001b[39m \u001b[38;5;28;01mfrom\u001b[39;00m\u001b[38;5;250m \u001b[39m\u001b[34;01mwerkzeug\u001b[39;00m\u001b[34;01m.\u001b[39;00m\u001b[34;01mutils\u001b[39;00m\u001b[38;5;250m \u001b[39m\u001b[38;5;28;01mimport\u001b[39;00m cached_property\n",
      "\u001b[31mImportError\u001b[39m: cannot import name 'url_quote' from 'werkzeug.urls' (d:\\RobbieDocuments\\Data\\.venv\\Lib\\site-packages\\werkzeug\\urls.py)"
     ]
    }
   ],
   "source": [
    "import os\n",
    "from flask import Flask, redirect, url_for, session, request\n",
    "from flask_oauthlib.client import OAuth\n",
    "\n",
    "app = Flask(__name__)\n",
    "app.secret_key = 'random_secret_key'  # Change this to a random secret key\n",
    "oauth = OAuth(app)\n",
    "\n",
    "dexcom = oauth.remote_app(\n",
    "    'dexcom',\n",
    "    consumer_key=os.getenv('DEXCOM_CLIENT_ID'),\n",
    "    consumer_secret=os.getenv('DEXCOM_CLIENT_SECRET'),\n",
    "    request_token_params={\n",
    "        'redirect_uri': 'http://localhost:5000/login/authorized'\n",
    "    },\n",
    "    base_url='https://api.dexcom.com/v2/',\n",
    "    request_token_url=None,\n",
    "    access_token_method='POST',\n",
    "    access_token_url='https://api.dexcom.com/v2/oauth2/token',\n",
    "    authorize_url='https://api.dexcom.com/v2/oauth2/login'\n",
    ")\n",
    "\n",
    "@app.route('/')\n",
    "def index():\n",
    "    return 'Welcome to Dexcom Wrapper! <a href=\"/login\">Login with Dexcom</a>'\n",
    "\n",
    "@app.route('/login')\n",
    "def login():\n",
    "    return dexcom.authorize(callback=url_for('authorized', _external=True))\n",
    "\n",
    "@app.route('/login/authorized')\n",
    "def authorized():\n",
    "    response = dexcom.authorized_response()\n",
    "    if response is None or response.get('access_token') is None:\n",
    "        return 'Access denied: reason={} error={}'.format(\n",
    "            request.args['error_reason'],\n",
    "            request.args['error_description']\n",
    "        )\n",
    "\n",
    "    session['dexcom_token'] = (response.get('access_token'), '')\n",
    "    me = dexcom.get('users/self')\n",
    "    return 'Logged in as: {}'.format(me.data)\n",
    "\n",
    "@dexcom.tokengetter\n",
    "def get_dexcom_oauth_token():\n",
    "    return session.get('dexcom_token')\n",
    "\n",
    "if __name__ == '__main__':\n",
    "    app.run(debug=True, port=5000)\n"
   ]
  },
  {
   "cell_type": "code",
   "execution_count": null,
   "metadata": {},
   "outputs": [],
   "source": []
  }
 ],
 "metadata": {
  "kernelspec": {
   "display_name": "data",
   "language": "python",
   "name": "python3"
  },
  "language_info": {
   "codemirror_mode": {
    "name": "ipython",
    "version": 3
   },
   "file_extension": ".py",
   "mimetype": "text/x-python",
   "name": "python",
   "nbconvert_exporter": "python",
   "pygments_lexer": "ipython3",
   "version": "3.12.10"
  },
  "orig_nbformat": 4
 },
 "nbformat": 4,
 "nbformat_minor": 2
}
