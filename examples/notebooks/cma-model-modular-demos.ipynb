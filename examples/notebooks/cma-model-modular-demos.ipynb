{
 "cells": [
  {
   "cell_type": "markdown",
   "metadata": {},
   "source": [
    "# PFun CMA Model -- Modular Demos"
   ]
  },
  {
   "cell_type": "code",
   "execution_count": null,
   "metadata": {},
   "outputs": [],
   "source": [
    "import pfun_cma_model as pfun"
   ]
  },
  {
   "cell_type": "markdown",
   "metadata": {},
   "source": [
    "## Instantiate the model"
   ]
  },
  {
   "cell_type": "code",
   "execution_count": null,
   "metadata": {},
   "outputs": [],
   "source": [
    "import json\n",
    "cma = pfun.CMASleepWakeModel()\n",
    "cma.to_dict()"
   ]
  },
  {
   "cell_type": "markdown",
   "metadata": {},
   "source": [
    "## Run the model (24 time bins)"
   ]
  },
  {
   "cell_type": "code",
   "execution_count": null,
   "metadata": {},
   "outputs": [],
   "source": [
    "cma.run()"
   ]
  },
  {
   "cell_type": "markdown",
   "metadata": {},
   "source": [
    "## Load & Process an example dataset"
   ]
  },
  {
   "cell_type": "code",
   "execution_count": null,
   "metadata": {},
   "outputs": [],
   "source": [
    "from pfun_cma_model.engine.fit import fit_model\n",
    "from pfun_cma_model.engine.data_utils import format_data\n",
    "from pfun_cma_model.misc.pathdefs import PFunDataPaths\n",
    "\n",
    "df = PFunDataPaths().read_sample_data()\n",
    "\n",
    "print('(raw) sample data')\n",
    "print(df.tail().to_markdown())\n",
    "print()\n",
    "\n",
    "print('formatted sample data')\n",
    "df_formatted = format_data(df)\n",
    "print(df_formatted.tail().to_markdown())\n",
    "print()\n",
    "\n",
    "ax = df_formatted.plot(\n",
    "    x='time',\n",
    "    y=['G'],\n",
    "    title='Sample Glucose Dataset',\n",
    "    figsize=(10, 5),\n",
    "    linestyle='',\n",
    "    marker='o',\n",
    ")"
   ]
  },
  {
   "cell_type": "markdown",
   "metadata": {},
   "source": [
    "#### Zoom on Last day (raw data)"
   ]
  },
  {
   "cell_type": "code",
   "execution_count": null,
   "metadata": {},
   "outputs": [],
   "source": [
    "ax.set_xlim('2021-01-27 16:00:00', df_formatted['time'].max())\n",
    "ax.get_figure()"
   ]
  },
  {
   "cell_type": "markdown",
   "metadata": {},
   "source": [
    "## Fit the model to sample data"
   ]
  },
  {
   "cell_type": "markdown",
   "metadata": {},
   "source": [
    "### Raw fit result (solution)"
   ]
  },
  {
   "cell_type": "code",
   "execution_count": null,
   "metadata": {},
   "outputs": [],
   "source": [
    "print('model fit result')\n",
    "result = fit_model(\n",
    "    df,\n",
    "    tm_freq='1h',\n",
    "    curve_fit_kwds={\n",
    "        'ftol': 1e-18,\n",
    "        'xtol': 1e-18,\n",
    "        'method': 'L-BFGS-B',\n",
    "        })\n",
    "print(result.soln.shape)\n",
    "print(result)\n",
    "print()"
   ]
  },
  {
   "cell_type": "markdown",
   "metadata": {},
   "source": [
    "### Raw fitted parameters\n",
    "\n",
    "**Displays `{ param_name: type(param_value) }` for all fitted parameters in the model result.**"
   ]
  },
  {
   "cell_type": "code",
   "execution_count": null,
   "metadata": {},
   "outputs": [],
   "source": [
    "import pandas as pd\n",
    "raw_params = result.cma.params\n",
    "\n",
    "print('types of raw parameters')\n",
    "params_types = {k: ( str(type(v)), repr(v)[:100] + '...' ) for k, v in raw_params.items()}\n",
    "\n",
    "df_params_types = pd.DataFrame.from_dict(\n",
    "    params_types, orient='index', columns=['type', 'repr_head'])\n",
    "df_params_types.sort_values(by='type', inplace=False)"
   ]
  },
  {
   "cell_type": "markdown",
   "metadata": {},
   "source": [
    "## CMAModelParams: Pretty Markdown Table\n",
    "\n",
    "**Includes qualitative descriptions (e.g., 'Normal', 'Low', 'High')**"
   ]
  },
  {
   "cell_type": "code",
   "execution_count": null,
   "metadata": {},
   "outputs": [],
   "source": [
    "from pfun_cma_model import CMAModelParams\n",
    "\n",
    "params = result.cma.bounded_params\n",
    "print(params.generate_markdown_table())"
   ]
  },
  {
   "cell_type": "markdown",
   "metadata": {},
   "source": [
    "### Fitted Solution Plotted"
   ]
  },
  {
   "cell_type": "code",
   "execution_count": null,
   "metadata": {},
   "outputs": [],
   "source": [
    "result.soln.plot(\n",
    "    x='t',\n",
    "    y=['G'],\n",
    "    title='Model Fit Result',\n",
    "    figsize=(10, 5),\n",
    "    linestyle='',\n",
    "    marker='x',\n",
    "    logy=True\n",
    ")"
   ]
  },
  {
   "cell_type": "markdown",
   "metadata": {},
   "source": [
    "#### Zoomed on dinner estimate (fitted)"
   ]
  },
  {
   "cell_type": "code",
   "execution_count": null,
   "metadata": {},
   "outputs": [],
   "source": [
    "result.soln.iloc[-200:, :].plot(x='t', y=['G'], figsize=(10, 5), linestyle='-', marker='o')"
   ]
  },
  {
   "cell_type": "code",
   "execution_count": null,
   "metadata": {},
   "outputs": [],
   "source": [
    "from pfun_cma_model.engine.cma_plot import CMAPlotConfig\n",
    "\n",
    "cma_plot = CMAPlotConfig()\n",
    "\n",
    "cma_plot.plot_model_results(\n",
    "    result.formatted_data,\n",
    "    result.soln,\n",
    "    as_blob=False,\n",
    "    separate2subplots=False,\n",
    ")"
   ]
  },
  {
   "cell_type": "code",
   "execution_count": null,
   "metadata": {},
   "outputs": [],
   "source": [
    "from pfun_cma_model.engine.cma_plot import CMAPlotConfig\n",
    "\n",
    "cma_plot = CMAPlotConfig()\n",
    "\n",
    "cma_plot.plot_model_results(\n",
    "    result.formatted_data,\n",
    "    result.soln,\n",
    "    as_blob=False,\n",
    "    separate2subplots=True,\n",
    ")"
   ]
  },
  {
   "cell_type": "markdown",
   "metadata": {},
   "source": [
    "## Experiments with N=..."
   ]
  },
  {
   "cell_type": "code",
   "execution_count": null,
   "metadata": {},
   "outputs": [],
   "source": [
    "for n in [12, 24, 288, 1024]:\n",
    "    print(f'Running model with {n} time points')\n",
    "    soln = pfun.CMASleepWakeModel(N=n).run()\n",
    "    print(soln.shape)\n",
    "    print()"
   ]
  },
  {
   "cell_type": "markdown",
   "metadata": {},
   "source": [
    "# CMA Model Parameters (Curve fitting)\n",
    "\n",
    "Experiments\n",
    "-----------"
   ]
  },
  {
   "cell_type": "markdown",
   "metadata": {},
   "source": [
    "[./cma-model-tuning.ipynb](./cma-model-tuning.ipynb)"
   ]
  }
 ],
 "metadata": {
  "kernelspec": {
   "display_name": "pfun-cma-model",
   "language": "python",
   "name": "python3"
  },
  "language_info": {
   "codemirror_mode": {
    "name": "ipython",
    "version": 3
   },
   "file_extension": ".py",
   "mimetype": "text/x-python",
   "name": "python",
   "nbconvert_exporter": "python",
   "pygments_lexer": "ipython3",
   "version": "3.12.11"
  }
 },
 "nbformat": 4,
 "nbformat_minor": 2
}
